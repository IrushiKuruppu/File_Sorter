{
 "cells": [
  {
   "cell_type": "code",
   "execution_count": 28,
   "id": "a90285ff-d7f7-4596-9d32-39f758df0dff",
   "metadata": {},
   "outputs": [],
   "source": [
    "import os, shutil"
   ]
  },
  {
   "cell_type": "code",
   "execution_count": 32,
   "id": "6fc4dba4-54ff-4999-bb63-146843935b2a",
   "metadata": {},
   "outputs": [],
   "source": [
    "path = r\"C:/Users/ASUS/Downloads/Python Test/\""
   ]
  },
  {
   "cell_type": "code",
   "execution_count": 78,
   "id": "286d1d6a-2371-4518-8335-fb88104b6b29",
   "metadata": {},
   "outputs": [
    {
     "name": "stdout",
     "output_type": "stream",
     "text": [
      "['api.PNG', 'dugga1.pdf', 'image files', 'pdf files', 'Receipt167358020240423133323859000.pdf']\n"
     ]
    }
   ],
   "source": [
    "file_list = os.listdir(path)\n",
    "print(file_list)"
   ]
  },
  {
   "cell_type": "code",
   "execution_count": 80,
   "id": "0b9d86c5-0e37-492f-a01d-56ecd675f690",
   "metadata": {},
   "outputs": [],
   "source": [
    "folder_names = [\"image files\", \"pdf files\"]"
   ]
  },
  {
   "cell_type": "code",
   "execution_count": 82,
   "id": "86f1189b-a8df-4df6-8ee7-ffb766031adf",
   "metadata": {},
   "outputs": [],
   "source": [
    "for file in folder_names :\n",
    "    if not os.path.exists(path + file):\n",
    "        print(path + file)\n",
    "        os.makedirs(path + file)\n",
    "    "
   ]
  },
  {
   "cell_type": "code",
   "execution_count": 92,
   "id": "6cc9054b-00c7-4221-ac23-666cdc31316c",
   "metadata": {},
   "outputs": [],
   "source": [
    "for doc in file_list:\n",
    "    if \".pdf\" in doc and not os.path.exists(path + \"pdf files/\"+doc):\n",
    "        shutil.move(path + doc, path + \"pdf files/\"+doc)\n",
    "    elif \".png\" in doc and not os.path.exists(path + \"image files/\"+doc): \n",
    "        shutil.move(path + doc, path + \"image files/\"+doc)"
   ]
  },
  {
   "cell_type": "code",
   "execution_count": null,
   "id": "c060f969-957e-418b-a8d8-1ec174cf425f",
   "metadata": {},
   "outputs": [],
   "source": []
  }
 ],
 "metadata": {
  "kernelspec": {
   "display_name": "Python 3 (ipykernel)",
   "language": "python",
   "name": "python3"
  },
  "language_info": {
   "codemirror_mode": {
    "name": "ipython",
    "version": 3
   },
   "file_extension": ".py",
   "mimetype": "text/x-python",
   "name": "python",
   "nbconvert_exporter": "python",
   "pygments_lexer": "ipython3",
   "version": "3.12.4"
  }
 },
 "nbformat": 4,
 "nbformat_minor": 5
}
